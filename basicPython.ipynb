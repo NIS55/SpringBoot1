{
 "cells": [
  {
   "cell_type": "markdown",
   "id": "01e54eae-0bfe-4198-8f2c-53b09fb7b2bb",
   "metadata": {},
   "source": [
    "pwd"
   ]
  },
  {
   "cell_type": "markdown",
   "id": "9ad4c564-dc1e-4140-87f0-398d3ae3ddfe",
   "metadata": {},
   "source": [
    "'C:\\\\Users\\\\Administrator'"
   ]
  },
  {
   "cell_type": "code",
   "execution_count": 9,
   "id": "8a794aa9-5c3a-44d0-93a1-d5dae86c4d9d",
   "metadata": {},
   "outputs": [],
   "source": [
    "a=6"
   ]
  },
  {
   "cell_type": "markdown",
   "id": "f3b1a567-3bec-4859-88c2-6583d865a8a4",
   "metadata": {},
   "source": [
    "<a href=\"https://pynative.com/wp-content/uploads/2021/02/dictionaries-in-python.jpg\">dictionary</a>"
   ]
  },
  {
   "cell_type": "markdown",
   "id": "f98a7f50-d860-4f18-97f8-1bcc25112da3",
   "metadata": {},
   "source": []
  },
  {
   "cell_type": "code",
   "execution_count": null,
   "id": "49b32dac-6d38-4bff-ac1c-25bb190c8ac7",
   "metadata": {},
   "outputs": [],
   "source": [
    "<img src =\"images/1.jpg/>"
   ]
  },
  {
   "cell_type": "code",
   "execution_count": null,
   "id": "33b34afd-2c1a-4b9e-83e1-64df7f526058",
   "metadata": {},
   "outputs": [],
   "source": [
    "<h1>dictionary</h1>\n",
    "<h4> 딕셔너리는 키와 value의 쌍으로 이루어진 데이터\n",
    "=> 자바스크립트의 객체와 동일</h4>"
   ]
  },
  {
   "cell_type": "code",
   "execution_count": 3,
   "id": "d88fe88b-ae9b-449a-aaf7-7249f257bec3",
   "metadata": {},
   "outputs": [],
   "source": [
    "a={'a':6} #dictionary"
   ]
  },
  {
   "cell_type": "code",
   "execution_count": 4,
   "id": "cca67b63-c85a-4f34-a38d-b5c54f256f14",
   "metadata": {},
   "outputs": [],
   "source": [
    "b=[1,2,4] #리스트"
   ]
  },
  {
   "cell_type": "markdown",
   "id": "808c00fe-1262-4810-9e80-951d9ec9bdc0",
   "metadata": {},
   "source": [
    "a['b']=13\n",
    "a"
   ]
  },
  {
   "cell_type": "code",
   "execution_count": 6,
   "id": "939afe95-d999-4fc9-9fd7-26572f4f4ab3",
   "metadata": {
    "scrolled": true
   },
   "outputs": [
    {
     "data": {
      "text/plain": [
       "{'a': 6, 'b': 13}"
      ]
     },
     "execution_count": 6,
     "metadata": {},
     "output_type": "execute_result"
    }
   ],
   "source": [
    "{'a':6, 'b':13}"
   ]
  },
  {
   "cell_type": "code",
   "execution_count": null,
   "id": "6774a059-0b31-40d4-a674-4bae63c6d400",
   "metadata": {},
   "outputs": [],
   "source": []
  }
 ],
 "metadata": {
  "kernelspec": {
   "display_name": "Python 3 (ipykernel)",
   "language": "python",
   "name": "python3"
  },
  "language_info": {
   "codemirror_mode": {
    "name": "ipython",
    "version": 3
   },
   "file_extension": ".py",
   "mimetype": "text/x-python",
   "name": "python",
   "nbconvert_exporter": "python",
   "pygments_lexer": "ipython3",
   "version": "3.12.7"
  }
 },
 "nbformat": 4,
 "nbformat_minor": 5
}
